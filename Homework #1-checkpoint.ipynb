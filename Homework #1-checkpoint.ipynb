{
 "cells": [
  {
   "cell_type": "code",
   "execution_count": null,
   "metadata": {},
   "outputs": [],
   "source": [
    "# #             Person\n",
    "#                 |          \n",
    "# #            Student\n",
    "#            /   |    \\                  \n",
    "# #    Faculty Staff  GradStudent    "
   ]
  },
  {
   "cell_type": "code",
   "execution_count": null,
   "metadata": {},
   "outputs": [],
   "source": [
    "import enum\n",
    "\n",
    "class Person:\n",
    "    def __init__(self, name='N/A', address='N/A', phone='(000) 000-0000', email='N/A'):\n",
    "        self.name = name\n",
    "        self.address = address\n",
    "        self.phone = phone\n",
    "        self.email = email\n",
    "\n",
    "    def get_name(self):\n",
    "        return self.name\n",
    "\n",
    "    def get_address(self):\n",
    "        return self.address\n",
    "\n",
    "    def get_phone(self):\n",
    "        return self.phone\n",
    "\n",
    "    def get_email(self):\n",
    "        return self.email\n",
    "\n",
    "    def set_address(self, address):\n",
    "        self.address = address\n",
    "\n",
    "    def set_phone(self, phone):\n",
    "        self.phone = phone\n",
    "\n",
    "    def set_email(self, email):\n",
    "        self.email = email"
   ]
  },
  {
   "cell_type": "code",
   "execution_count": null,
   "metadata": {},
   "outputs": [],
   "source": [
    "class Student(Person):\n",
    "    def __init__(self, name='Royce Jamerson', address='1234 SMART RA', phone='(123) 456-7890', email='rjamerson1@go.pasadena.edu'):\n",
    "        super().__init__(name, address, phone, email)\n",
    "  "
   ]
  },
  {
   "cell_type": "code",
   "execution_count": null,
   "metadata": {},
   "outputs": [],
   "source": [
    "class Faculty(Student):\n",
    "    def __init__(self, name='N/A', address='1234 SMART RA', phone='(000) 000-0000', email='N/A', office='Room 1234', date_hired='06/07/2022', salary='10000'):\n",
    "        super().__init__(name, address, phone, email)\n",
    "        self.office = office\n",
    "        self.salary = salary\n",
    "        self.date_hired = date_hired\n",
    "    \n",
    "    def get_office(self):\n",
    "        return self.office\n",
    "\n",
    "    def get_date_hired(self):\n",
    "        return self.date_hired\n",
    "    \n",
    "    def get_salary(self):\n",
    "        return self.salary\n",
    "\n",
    "    def set_office(self, office):\n",
    "        self.office = office\n",
    "        \n",
    "    def set_date_hired(self, date_hired):\n",
    "        self.date_hired = date_hired\n",
    "\n",
    "    def set_salary(self, salary):\n",
    "        self.salary = salary\n",
    "        \n",
    "    salary = 10000\n",
    "    faculty_raise = salary + 1000\n",
    "\n",
    "    \n",
    "        \n",
    "        \n",
    "        "
   ]
  },
  {
   "cell_type": "code",
   "execution_count": null,
   "metadata": {},
   "outputs": [],
   "source": [
    "class Student(Student):\n",
    "    def __init__(self, name='N/A', address='1234 SMART RA', phone='(000) 000-0000', email='N/A', office='Room 5678', date_hired='06/07/2022', salary='10000'):\n",
    "        super().__init__(name, address, phone, email)\n",
    "        self.office = office\n",
    "        self.salary = salary\n",
    "        self.date_hired = date_hired\n",
    "    \n",
    "    def get_office(self):\n",
    "        return self.office\n",
    "\n",
    "    def get_date_hired(self):\n",
    "        return self.date_hired\n",
    "    \n",
    "    def get_salary(self):\n",
    "        return self.salary\n",
    "\n",
    "    def set_office(self, office):\n",
    "        self.office = office\n",
    "        \n",
    "    def set_date_hired(self, date_hired):\n",
    "        self.date_hired = date_hired\n",
    "\n",
    "    def set_salary(self, salary):\n",
    "        self.salary = salary\n",
    "        \n",
    "    salary = 10000\n",
    "    staff_raise = salary + 2000\n",
    "        "
   ]
  },
  {
   "cell_type": "code",
   "execution_count": null,
   "metadata": {},
   "outputs": [],
   "source": [
    "class Grad_Student(Student):\n",
    "    def __init__(self, name='N/A', address='1234 SMART RA', phone='(123) 000-0000', email='N/A', grad_student_id='N/A'):\n",
    "        super().__init__(name, address, phone, email)\n",
    "        self.grad_student_id = grad_student_id\n",
    "        \n",
    "    def get_grad_student_id(self):\n",
    "        return self.grad_student_id\n",
    "    \n",
    "    def set_grad_student_id(self, grad_student_id):\n",
    "        self.grad_student_id = grad_student_id"
   ]
  }
 ],
 "metadata": {
  "kernelspec": {
   "display_name": "Python 3",
   "language": "python",
   "name": "python3"
  },
  "language_info": {
   "codemirror_mode": {
    "name": "ipython",
    "version": 3
   },
   "file_extension": ".py",
   "mimetype": "text/x-python",
   "name": "python",
   "nbconvert_exporter": "python",
   "pygments_lexer": "ipython3",
   "version": "3.7.4"
  }
 },
 "nbformat": 4,
 "nbformat_minor": 2
}
